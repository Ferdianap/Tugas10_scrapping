{
  "nbformat": 4,
  "nbformat_minor": 0,
  "metadata": {
    "colab": {
      "provenance": [],
      "authorship_tag": "ABX9TyMBdPNL5hSq51XEiD81Qwhw",
      "include_colab_link": true
    },
    "kernelspec": {
      "name": "python3",
      "display_name": "Python 3"
    },
    "language_info": {
      "name": "python"
    }
  },
  "cells": [
    {
      "cell_type": "markdown",
      "metadata": {
        "id": "view-in-github",
        "colab_type": "text"
      },
      "source": [
        "<a href=\"https://colab.research.google.com/github/Ferdianap/Tugas10_scrapping/blob/main/tugas10_scrapping.ipynb\" target=\"_parent\"><img src=\"https://colab.research.google.com/assets/colab-badge.svg\" alt=\"Open In Colab\"/></a>"
      ]
    },
    {
      "cell_type": "code",
      "execution_count": 4,
      "metadata": {
        "id": "_rsIvX_F1NFu"
      },
      "outputs": [],
      "source": [
        "import requests\n",
        "import json"
      ]
    },
    {
      "cell_type": "code",
      "source": [
        "import requests\n",
        "\n",
        "url = \"https://cnichols1734.pythonanywhere.com/facts/random\"\n",
        "\n",
        "# permintaan GET ke API\n",
        "response = requests.get(url)\n",
        "\n",
        "# Konversi respons ke JSON\n",
        "data = response.json()\n",
        "\n",
        "print(data['fact'])"
      ],
      "metadata": {
        "colab": {
          "base_uri": "https://localhost:8080/"
        },
        "id": "57jFXiuk36EN",
        "outputId": "7cbc08e5-950b-44b7-ea55-22827f160c7f"
      },
      "execution_count": 20,
      "outputs": [
        {
          "output_type": "stream",
          "name": "stdout",
          "text": [
            "The longest human chain underwater consisted of 308 divers.\n"
          ]
        }
      ]
    },
    {
      "cell_type": "code",
      "source": [
        "import requests\n",
        "import csv"
      ],
      "metadata": {
        "id": "0m7HSeXa4KIC"
      },
      "execution_count": 21,
      "outputs": []
    },
    {
      "cell_type": "code",
      "source": [
        "response = requests.get(url)\n",
        "data = response.json()\n",
        "\n",
        "# Menyimpan fact ke dalam file CSV\n",
        "with open('fact.csv', 'w', newline='') as csv_file:\n",
        "    csv_writer = csv.writer(csv_file)\n",
        "    headers = ['Fact']\n",
        "    csv_writer.writerow(headers)  # Menulis header\n",
        "    csv_writer.writerow([data['fact']])  # Menulis fakta\n",
        "\n",
        "print(\"Data berhasil disimpan ke fact.csv\")"
      ],
      "metadata": {
        "colab": {
          "base_uri": "https://localhost:8080/"
        },
        "id": "XyrWhDUj4OfK",
        "outputId": "5a57b1a7-8bc1-4353-8e4b-b62884469c53"
      },
      "execution_count": 25,
      "outputs": [
        {
          "output_type": "stream",
          "name": "stdout",
          "text": [
            "Data berhasil disimpan ke fact.csv\n"
          ]
        }
      ]
    }
  ]
}